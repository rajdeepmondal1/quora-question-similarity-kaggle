{
  "cells": [
    {
      "cell_type": "markdown",
      "metadata": {
        "id": "view-in-github",
        "colab_type": "text"
      },
      "source": [
        "<a href=\"https://colab.research.google.com/github/rajdeepmondal1/quora-question-similarity-kaggle/blob/main/Detecting_Duplicate_Quora_Questions_Kaggle_Competetion.ipynb\" target=\"_parent\"><img src=\"https://colab.research.google.com/assets/colab-badge.svg\" alt=\"Open In Colab\"/></a>"
      ]
    },
    {
      "cell_type": "code",
      "execution_count": 6,
      "metadata": {
        "colab": {
          "base_uri": "https://localhost:8080/"
        },
        "id": "ErVUieK81HJ_",
        "outputId": "88b0dd8c-1d01-4756-f55f-14b4b74043ee"
      },
      "outputs": [
        {
          "output_type": "stream",
          "name": "stdout",
          "text": [
            "Requirement already satisfied: kaggle in /usr/local/lib/python3.7/dist-packages (1.5.12)\n",
            "Requirement already satisfied: certifi in /usr/local/lib/python3.7/dist-packages (from kaggle) (2021.10.8)\n",
            "Requirement already satisfied: requests in /usr/local/lib/python3.7/dist-packages (from kaggle) (2.23.0)\n",
            "Requirement already satisfied: six>=1.10 in /usr/local/lib/python3.7/dist-packages (from kaggle) (1.15.0)\n",
            "Requirement already satisfied: python-dateutil in /usr/local/lib/python3.7/dist-packages (from kaggle) (2.8.2)\n",
            "Requirement already satisfied: urllib3 in /usr/local/lib/python3.7/dist-packages (from kaggle) (1.24.3)\n",
            "Requirement already satisfied: python-slugify in /usr/local/lib/python3.7/dist-packages (from kaggle) (6.1.1)\n",
            "Requirement already satisfied: tqdm in /usr/local/lib/python3.7/dist-packages (from kaggle) (4.64.0)\n",
            "Requirement already satisfied: text-unidecode>=1.3 in /usr/local/lib/python3.7/dist-packages (from python-slugify->kaggle) (1.3)\n",
            "Requirement already satisfied: idna<3,>=2.5 in /usr/local/lib/python3.7/dist-packages (from requests->kaggle) (2.10)\n",
            "Requirement already satisfied: chardet<4,>=3.0.2 in /usr/local/lib/python3.7/dist-packages (from requests->kaggle) (3.0.4)\n"
          ]
        }
      ],
      "source": [
        "!pip install kaggle\n",
        "!rm -rf ~/.kaggle\n",
        "!mkdir ~/.kaggle\n",
        "!cp kaggle.json ~/.kaggle/\n",
        "!chmod 600 ~/.kaggle/kaggle.json"
      ]
    },
    {
      "cell_type": "code",
      "execution_count": 7,
      "metadata": {
        "colab": {
          "base_uri": "https://localhost:8080/"
        },
        "id": "FZd3oFVLaRiC",
        "outputId": "a3fe3c02-ee6c-498b-f433-862ef540428d"
      },
      "outputs": [
        {
          "output_type": "stream",
          "name": "stdout",
          "text": [
            "Downloading quora-question-pairs.zip to /content\n",
            " 96% 296M/309M [00:02<00:00, 103MB/s]\n",
            "100% 309M/309M [00:02<00:00, 129MB/s]\n"
          ]
        }
      ],
      "source": [
        "!kaggle competitions download -c quora-question-pairs"
      ]
    },
    {
      "cell_type": "code",
      "execution_count": 8,
      "metadata": {
        "id": "YoZuQ9n01Bx4"
      },
      "outputs": [],
      "source": [
        "import zipfile\n",
        "\n",
        "def unzip_data(filename):\n",
        "  \"\"\"\n",
        "  Unzips filename into the current working directory.\n",
        "  Args:\n",
        "    filename (str): a filepath to a target zip folder to be unzipped.\n",
        "  \"\"\"\n",
        "  zip_ref = zipfile.ZipFile(filename, \"r\")\n",
        "  zip_ref.extractall()\n",
        "  zip_ref.close()"
      ]
    },
    {
      "cell_type": "code",
      "execution_count": 9,
      "metadata": {
        "id": "3ksUH1Gz3dWo"
      },
      "outputs": [],
      "source": [
        "unzip_data('/content/quora-question-pairs.zip')"
      ]
    },
    {
      "cell_type": "code",
      "execution_count": 10,
      "metadata": {
        "id": "sssI1j9a3g2e"
      },
      "outputs": [],
      "source": [
        "unzip_data('/content/train.csv.zip')"
      ]
    },
    {
      "cell_type": "code",
      "execution_count": 11,
      "metadata": {
        "id": "YfC5rHni3v-q"
      },
      "outputs": [],
      "source": [
        "unzip_data('/content/test.csv.zip')"
      ]
    },
    {
      "cell_type": "code",
      "execution_count": 12,
      "metadata": {
        "colab": {
          "base_uri": "https://localhost:8080/",
          "height": 206
        },
        "id": "vxQJ3L4V310e",
        "outputId": "2a6db46e-25a7-4fce-c718-453291023181"
      },
      "outputs": [
        {
          "output_type": "execute_result",
          "data": {
            "text/plain": [
              "                                           question1  \\\n",
              "0  What is the step by step guide to invest in sh...   \n",
              "1  What is the story of Kohinoor (Koh-i-Noor) Dia...   \n",
              "2  How can I increase the speed of my internet co...   \n",
              "3  Why am I mentally very lonely? How can I solve...   \n",
              "4  Which one dissolve in water quikly sugar, salt...   \n",
              "\n",
              "                                           question2  is_duplicate  \n",
              "0  What is the step by step guide to invest in sh...             0  \n",
              "1  What would happen if the Indian government sto...             0  \n",
              "2  How can Internet speed be increased by hacking...             0  \n",
              "3  Find the remainder when [math]23^{24}[/math] i...             0  \n",
              "4            Which fish would survive in salt water?             0  "
            ],
            "text/html": [
              "\n",
              "  <div id=\"df-658f3f11-210e-4e83-a12e-dca433541f54\">\n",
              "    <div class=\"colab-df-container\">\n",
              "      <div>\n",
              "<style scoped>\n",
              "    .dataframe tbody tr th:only-of-type {\n",
              "        vertical-align: middle;\n",
              "    }\n",
              "\n",
              "    .dataframe tbody tr th {\n",
              "        vertical-align: top;\n",
              "    }\n",
              "\n",
              "    .dataframe thead th {\n",
              "        text-align: right;\n",
              "    }\n",
              "</style>\n",
              "<table border=\"1\" class=\"dataframe\">\n",
              "  <thead>\n",
              "    <tr style=\"text-align: right;\">\n",
              "      <th></th>\n",
              "      <th>question1</th>\n",
              "      <th>question2</th>\n",
              "      <th>is_duplicate</th>\n",
              "    </tr>\n",
              "  </thead>\n",
              "  <tbody>\n",
              "    <tr>\n",
              "      <th>0</th>\n",
              "      <td>What is the step by step guide to invest in sh...</td>\n",
              "      <td>What is the step by step guide to invest in sh...</td>\n",
              "      <td>0</td>\n",
              "    </tr>\n",
              "    <tr>\n",
              "      <th>1</th>\n",
              "      <td>What is the story of Kohinoor (Koh-i-Noor) Dia...</td>\n",
              "      <td>What would happen if the Indian government sto...</td>\n",
              "      <td>0</td>\n",
              "    </tr>\n",
              "    <tr>\n",
              "      <th>2</th>\n",
              "      <td>How can I increase the speed of my internet co...</td>\n",
              "      <td>How can Internet speed be increased by hacking...</td>\n",
              "      <td>0</td>\n",
              "    </tr>\n",
              "    <tr>\n",
              "      <th>3</th>\n",
              "      <td>Why am I mentally very lonely? How can I solve...</td>\n",
              "      <td>Find the remainder when [math]23^{24}[/math] i...</td>\n",
              "      <td>0</td>\n",
              "    </tr>\n",
              "    <tr>\n",
              "      <th>4</th>\n",
              "      <td>Which one dissolve in water quikly sugar, salt...</td>\n",
              "      <td>Which fish would survive in salt water?</td>\n",
              "      <td>0</td>\n",
              "    </tr>\n",
              "  </tbody>\n",
              "</table>\n",
              "</div>\n",
              "      <button class=\"colab-df-convert\" onclick=\"convertToInteractive('df-658f3f11-210e-4e83-a12e-dca433541f54')\"\n",
              "              title=\"Convert this dataframe to an interactive table.\"\n",
              "              style=\"display:none;\">\n",
              "        \n",
              "  <svg xmlns=\"http://www.w3.org/2000/svg\" height=\"24px\"viewBox=\"0 0 24 24\"\n",
              "       width=\"24px\">\n",
              "    <path d=\"M0 0h24v24H0V0z\" fill=\"none\"/>\n",
              "    <path d=\"M18.56 5.44l.94 2.06.94-2.06 2.06-.94-2.06-.94-.94-2.06-.94 2.06-2.06.94zm-11 1L8.5 8.5l.94-2.06 2.06-.94-2.06-.94L8.5 2.5l-.94 2.06-2.06.94zm10 10l.94 2.06.94-2.06 2.06-.94-2.06-.94-.94-2.06-.94 2.06-2.06.94z\"/><path d=\"M17.41 7.96l-1.37-1.37c-.4-.4-.92-.59-1.43-.59-.52 0-1.04.2-1.43.59L10.3 9.45l-7.72 7.72c-.78.78-.78 2.05 0 2.83L4 21.41c.39.39.9.59 1.41.59.51 0 1.02-.2 1.41-.59l7.78-7.78 2.81-2.81c.8-.78.8-2.07 0-2.86zM5.41 20L4 18.59l7.72-7.72 1.47 1.35L5.41 20z\"/>\n",
              "  </svg>\n",
              "      </button>\n",
              "      \n",
              "  <style>\n",
              "    .colab-df-container {\n",
              "      display:flex;\n",
              "      flex-wrap:wrap;\n",
              "      gap: 12px;\n",
              "    }\n",
              "\n",
              "    .colab-df-convert {\n",
              "      background-color: #E8F0FE;\n",
              "      border: none;\n",
              "      border-radius: 50%;\n",
              "      cursor: pointer;\n",
              "      display: none;\n",
              "      fill: #1967D2;\n",
              "      height: 32px;\n",
              "      padding: 0 0 0 0;\n",
              "      width: 32px;\n",
              "    }\n",
              "\n",
              "    .colab-df-convert:hover {\n",
              "      background-color: #E2EBFA;\n",
              "      box-shadow: 0px 1px 2px rgba(60, 64, 67, 0.3), 0px 1px 3px 1px rgba(60, 64, 67, 0.15);\n",
              "      fill: #174EA6;\n",
              "    }\n",
              "\n",
              "    [theme=dark] .colab-df-convert {\n",
              "      background-color: #3B4455;\n",
              "      fill: #D2E3FC;\n",
              "    }\n",
              "\n",
              "    [theme=dark] .colab-df-convert:hover {\n",
              "      background-color: #434B5C;\n",
              "      box-shadow: 0px 1px 3px 1px rgba(0, 0, 0, 0.15);\n",
              "      filter: drop-shadow(0px 1px 2px rgba(0, 0, 0, 0.3));\n",
              "      fill: #FFFFFF;\n",
              "    }\n",
              "  </style>\n",
              "\n",
              "      <script>\n",
              "        const buttonEl =\n",
              "          document.querySelector('#df-658f3f11-210e-4e83-a12e-dca433541f54 button.colab-df-convert');\n",
              "        buttonEl.style.display =\n",
              "          google.colab.kernel.accessAllowed ? 'block' : 'none';\n",
              "\n",
              "        async function convertToInteractive(key) {\n",
              "          const element = document.querySelector('#df-658f3f11-210e-4e83-a12e-dca433541f54');\n",
              "          const dataTable =\n",
              "            await google.colab.kernel.invokeFunction('convertToInteractive',\n",
              "                                                     [key], {});\n",
              "          if (!dataTable) return;\n",
              "\n",
              "          const docLinkHtml = 'Like what you see? Visit the ' +\n",
              "            '<a target=\"_blank\" href=https://colab.research.google.com/notebooks/data_table.ipynb>data table notebook</a>'\n",
              "            + ' to learn more about interactive tables.';\n",
              "          element.innerHTML = '';\n",
              "          dataTable['output_type'] = 'display_data';\n",
              "          await google.colab.output.renderOutput(dataTable, element);\n",
              "          const docLink = document.createElement('div');\n",
              "          docLink.innerHTML = docLinkHtml;\n",
              "          element.appendChild(docLink);\n",
              "        }\n",
              "      </script>\n",
              "    </div>\n",
              "  </div>\n",
              "  "
            ]
          },
          "metadata": {},
          "execution_count": 12
        }
      ],
      "source": [
        "import pandas as pd\n",
        "\n",
        "quora_train = pd.read_csv('/content/train.csv')\n",
        "quora_train = quora_train.drop(['id', 'qid1', 'qid2'], axis=1)\n",
        "quora_train.head()"
      ]
    },
    {
      "cell_type": "code",
      "execution_count": 13,
      "metadata": {
        "colab": {
          "base_uri": "https://localhost:8080/",
          "height": 241
        },
        "id": "uV_03Egp4c3I",
        "outputId": "8a77fc7a-2369-4a69-f7ce-d1ddb2968622"
      },
      "outputs": [
        {
          "output_type": "stream",
          "name": "stderr",
          "text": [
            "/usr/local/lib/python3.7/dist-packages/IPython/core/interactiveshell.py:2882: DtypeWarning: Columns (0) have mixed types.Specify dtype option on import or set low_memory=False.\n",
            "  exec(code_obj, self.user_global_ns, self.user_ns)\n"
          ]
        },
        {
          "output_type": "execute_result",
          "data": {
            "text/plain": [
              "  test_id                                          question1  \\\n",
              "0       0  How does the Surface Pro himself 4 compare wit...   \n",
              "1       1  Should I have a hair transplant at age 24? How...   \n",
              "2       2  What but is the best way to send money from Ch...   \n",
              "3       3                        Which food not emulsifiers?   \n",
              "4       4                   How \"aberystwyth\" start reading?   \n",
              "\n",
              "                                           question2  \n",
              "0  Why did Microsoft choose core m3 and not core ...  \n",
              "1        How much cost does hair transplant require?  \n",
              "2                      What you send money to China?  \n",
              "3                                  What foods fibre?  \n",
              "4                     How their can I start reading?  "
            ],
            "text/html": [
              "\n",
              "  <div id=\"df-6cf549a9-4e43-440a-8b1f-1593e06777f9\">\n",
              "    <div class=\"colab-df-container\">\n",
              "      <div>\n",
              "<style scoped>\n",
              "    .dataframe tbody tr th:only-of-type {\n",
              "        vertical-align: middle;\n",
              "    }\n",
              "\n",
              "    .dataframe tbody tr th {\n",
              "        vertical-align: top;\n",
              "    }\n",
              "\n",
              "    .dataframe thead th {\n",
              "        text-align: right;\n",
              "    }\n",
              "</style>\n",
              "<table border=\"1\" class=\"dataframe\">\n",
              "  <thead>\n",
              "    <tr style=\"text-align: right;\">\n",
              "      <th></th>\n",
              "      <th>test_id</th>\n",
              "      <th>question1</th>\n",
              "      <th>question2</th>\n",
              "    </tr>\n",
              "  </thead>\n",
              "  <tbody>\n",
              "    <tr>\n",
              "      <th>0</th>\n",
              "      <td>0</td>\n",
              "      <td>How does the Surface Pro himself 4 compare wit...</td>\n",
              "      <td>Why did Microsoft choose core m3 and not core ...</td>\n",
              "    </tr>\n",
              "    <tr>\n",
              "      <th>1</th>\n",
              "      <td>1</td>\n",
              "      <td>Should I have a hair transplant at age 24? How...</td>\n",
              "      <td>How much cost does hair transplant require?</td>\n",
              "    </tr>\n",
              "    <tr>\n",
              "      <th>2</th>\n",
              "      <td>2</td>\n",
              "      <td>What but is the best way to send money from Ch...</td>\n",
              "      <td>What you send money to China?</td>\n",
              "    </tr>\n",
              "    <tr>\n",
              "      <th>3</th>\n",
              "      <td>3</td>\n",
              "      <td>Which food not emulsifiers?</td>\n",
              "      <td>What foods fibre?</td>\n",
              "    </tr>\n",
              "    <tr>\n",
              "      <th>4</th>\n",
              "      <td>4</td>\n",
              "      <td>How \"aberystwyth\" start reading?</td>\n",
              "      <td>How their can I start reading?</td>\n",
              "    </tr>\n",
              "  </tbody>\n",
              "</table>\n",
              "</div>\n",
              "      <button class=\"colab-df-convert\" onclick=\"convertToInteractive('df-6cf549a9-4e43-440a-8b1f-1593e06777f9')\"\n",
              "              title=\"Convert this dataframe to an interactive table.\"\n",
              "              style=\"display:none;\">\n",
              "        \n",
              "  <svg xmlns=\"http://www.w3.org/2000/svg\" height=\"24px\"viewBox=\"0 0 24 24\"\n",
              "       width=\"24px\">\n",
              "    <path d=\"M0 0h24v24H0V0z\" fill=\"none\"/>\n",
              "    <path d=\"M18.56 5.44l.94 2.06.94-2.06 2.06-.94-2.06-.94-.94-2.06-.94 2.06-2.06.94zm-11 1L8.5 8.5l.94-2.06 2.06-.94-2.06-.94L8.5 2.5l-.94 2.06-2.06.94zm10 10l.94 2.06.94-2.06 2.06-.94-2.06-.94-.94-2.06-.94 2.06-2.06.94z\"/><path d=\"M17.41 7.96l-1.37-1.37c-.4-.4-.92-.59-1.43-.59-.52 0-1.04.2-1.43.59L10.3 9.45l-7.72 7.72c-.78.78-.78 2.05 0 2.83L4 21.41c.39.39.9.59 1.41.59.51 0 1.02-.2 1.41-.59l7.78-7.78 2.81-2.81c.8-.78.8-2.07 0-2.86zM5.41 20L4 18.59l7.72-7.72 1.47 1.35L5.41 20z\"/>\n",
              "  </svg>\n",
              "      </button>\n",
              "      \n",
              "  <style>\n",
              "    .colab-df-container {\n",
              "      display:flex;\n",
              "      flex-wrap:wrap;\n",
              "      gap: 12px;\n",
              "    }\n",
              "\n",
              "    .colab-df-convert {\n",
              "      background-color: #E8F0FE;\n",
              "      border: none;\n",
              "      border-radius: 50%;\n",
              "      cursor: pointer;\n",
              "      display: none;\n",
              "      fill: #1967D2;\n",
              "      height: 32px;\n",
              "      padding: 0 0 0 0;\n",
              "      width: 32px;\n",
              "    }\n",
              "\n",
              "    .colab-df-convert:hover {\n",
              "      background-color: #E2EBFA;\n",
              "      box-shadow: 0px 1px 2px rgba(60, 64, 67, 0.3), 0px 1px 3px 1px rgba(60, 64, 67, 0.15);\n",
              "      fill: #174EA6;\n",
              "    }\n",
              "\n",
              "    [theme=dark] .colab-df-convert {\n",
              "      background-color: #3B4455;\n",
              "      fill: #D2E3FC;\n",
              "    }\n",
              "\n",
              "    [theme=dark] .colab-df-convert:hover {\n",
              "      background-color: #434B5C;\n",
              "      box-shadow: 0px 1px 3px 1px rgba(0, 0, 0, 0.15);\n",
              "      filter: drop-shadow(0px 1px 2px rgba(0, 0, 0, 0.3));\n",
              "      fill: #FFFFFF;\n",
              "    }\n",
              "  </style>\n",
              "\n",
              "      <script>\n",
              "        const buttonEl =\n",
              "          document.querySelector('#df-6cf549a9-4e43-440a-8b1f-1593e06777f9 button.colab-df-convert');\n",
              "        buttonEl.style.display =\n",
              "          google.colab.kernel.accessAllowed ? 'block' : 'none';\n",
              "\n",
              "        async function convertToInteractive(key) {\n",
              "          const element = document.querySelector('#df-6cf549a9-4e43-440a-8b1f-1593e06777f9');\n",
              "          const dataTable =\n",
              "            await google.colab.kernel.invokeFunction('convertToInteractive',\n",
              "                                                     [key], {});\n",
              "          if (!dataTable) return;\n",
              "\n",
              "          const docLinkHtml = 'Like what you see? Visit the ' +\n",
              "            '<a target=\"_blank\" href=https://colab.research.google.com/notebooks/data_table.ipynb>data table notebook</a>'\n",
              "            + ' to learn more about interactive tables.';\n",
              "          element.innerHTML = '';\n",
              "          dataTable['output_type'] = 'display_data';\n",
              "          await google.colab.output.renderOutput(dataTable, element);\n",
              "          const docLink = document.createElement('div');\n",
              "          docLink.innerHTML = docLinkHtml;\n",
              "          element.appendChild(docLink);\n",
              "        }\n",
              "      </script>\n",
              "    </div>\n",
              "  </div>\n",
              "  "
            ]
          },
          "metadata": {},
          "execution_count": 13
        }
      ],
      "source": [
        "quora_test = pd.read_csv('/content/test.csv')\n",
        "quora_test.head()"
      ]
    },
    {
      "cell_type": "code",
      "execution_count": 14,
      "metadata": {
        "colab": {
          "base_uri": "https://localhost:8080/",
          "height": 206
        },
        "id": "it0UrZXZ4i3Q",
        "outputId": "36266432-63e5-4938-f0ea-1484fa53aea5"
      },
      "outputs": [
        {
          "output_type": "execute_result",
          "data": {
            "text/plain": [
              "                                            question1  \\\n",
              "5   Astrology: I am a Capricorn Sun Cap moon and c...   \n",
              "7                      How can I be a good geologist?   \n",
              "11        How do I read and find my YouTube comments?   \n",
              "12               What can make Physics easy to learn?   \n",
              "13        What was your first sexual experience like?   \n",
              "\n",
              "                                            question2  \n",
              "5   I'm a triple Capricorn (Sun, Moon and ascendan...  \n",
              "7           What should I do to be a great geologist?  \n",
              "11             How can I see all my Youtube comments?  \n",
              "12            How can you make physics easy to learn?  \n",
              "13             What was your first sexual experience?  "
            ],
            "text/html": [
              "\n",
              "  <div id=\"df-eff9dc22-9f34-47b1-88d2-0328fc7750c4\">\n",
              "    <div class=\"colab-df-container\">\n",
              "      <div>\n",
              "<style scoped>\n",
              "    .dataframe tbody tr th:only-of-type {\n",
              "        vertical-align: middle;\n",
              "    }\n",
              "\n",
              "    .dataframe tbody tr th {\n",
              "        vertical-align: top;\n",
              "    }\n",
              "\n",
              "    .dataframe thead th {\n",
              "        text-align: right;\n",
              "    }\n",
              "</style>\n",
              "<table border=\"1\" class=\"dataframe\">\n",
              "  <thead>\n",
              "    <tr style=\"text-align: right;\">\n",
              "      <th></th>\n",
              "      <th>question1</th>\n",
              "      <th>question2</th>\n",
              "    </tr>\n",
              "  </thead>\n",
              "  <tbody>\n",
              "    <tr>\n",
              "      <th>5</th>\n",
              "      <td>Astrology: I am a Capricorn Sun Cap moon and c...</td>\n",
              "      <td>I'm a triple Capricorn (Sun, Moon and ascendan...</td>\n",
              "    </tr>\n",
              "    <tr>\n",
              "      <th>7</th>\n",
              "      <td>How can I be a good geologist?</td>\n",
              "      <td>What should I do to be a great geologist?</td>\n",
              "    </tr>\n",
              "    <tr>\n",
              "      <th>11</th>\n",
              "      <td>How do I read and find my YouTube comments?</td>\n",
              "      <td>How can I see all my Youtube comments?</td>\n",
              "    </tr>\n",
              "    <tr>\n",
              "      <th>12</th>\n",
              "      <td>What can make Physics easy to learn?</td>\n",
              "      <td>How can you make physics easy to learn?</td>\n",
              "    </tr>\n",
              "    <tr>\n",
              "      <th>13</th>\n",
              "      <td>What was your first sexual experience like?</td>\n",
              "      <td>What was your first sexual experience?</td>\n",
              "    </tr>\n",
              "  </tbody>\n",
              "</table>\n",
              "</div>\n",
              "      <button class=\"colab-df-convert\" onclick=\"convertToInteractive('df-eff9dc22-9f34-47b1-88d2-0328fc7750c4')\"\n",
              "              title=\"Convert this dataframe to an interactive table.\"\n",
              "              style=\"display:none;\">\n",
              "        \n",
              "  <svg xmlns=\"http://www.w3.org/2000/svg\" height=\"24px\"viewBox=\"0 0 24 24\"\n",
              "       width=\"24px\">\n",
              "    <path d=\"M0 0h24v24H0V0z\" fill=\"none\"/>\n",
              "    <path d=\"M18.56 5.44l.94 2.06.94-2.06 2.06-.94-2.06-.94-.94-2.06-.94 2.06-2.06.94zm-11 1L8.5 8.5l.94-2.06 2.06-.94-2.06-.94L8.5 2.5l-.94 2.06-2.06.94zm10 10l.94 2.06.94-2.06 2.06-.94-2.06-.94-.94-2.06-.94 2.06-2.06.94z\"/><path d=\"M17.41 7.96l-1.37-1.37c-.4-.4-.92-.59-1.43-.59-.52 0-1.04.2-1.43.59L10.3 9.45l-7.72 7.72c-.78.78-.78 2.05 0 2.83L4 21.41c.39.39.9.59 1.41.59.51 0 1.02-.2 1.41-.59l7.78-7.78 2.81-2.81c.8-.78.8-2.07 0-2.86zM5.41 20L4 18.59l7.72-7.72 1.47 1.35L5.41 20z\"/>\n",
              "  </svg>\n",
              "      </button>\n",
              "      \n",
              "  <style>\n",
              "    .colab-df-container {\n",
              "      display:flex;\n",
              "      flex-wrap:wrap;\n",
              "      gap: 12px;\n",
              "    }\n",
              "\n",
              "    .colab-df-convert {\n",
              "      background-color: #E8F0FE;\n",
              "      border: none;\n",
              "      border-radius: 50%;\n",
              "      cursor: pointer;\n",
              "      display: none;\n",
              "      fill: #1967D2;\n",
              "      height: 32px;\n",
              "      padding: 0 0 0 0;\n",
              "      width: 32px;\n",
              "    }\n",
              "\n",
              "    .colab-df-convert:hover {\n",
              "      background-color: #E2EBFA;\n",
              "      box-shadow: 0px 1px 2px rgba(60, 64, 67, 0.3), 0px 1px 3px 1px rgba(60, 64, 67, 0.15);\n",
              "      fill: #174EA6;\n",
              "    }\n",
              "\n",
              "    [theme=dark] .colab-df-convert {\n",
              "      background-color: #3B4455;\n",
              "      fill: #D2E3FC;\n",
              "    }\n",
              "\n",
              "    [theme=dark] .colab-df-convert:hover {\n",
              "      background-color: #434B5C;\n",
              "      box-shadow: 0px 1px 3px 1px rgba(0, 0, 0, 0.15);\n",
              "      filter: drop-shadow(0px 1px 2px rgba(0, 0, 0, 0.3));\n",
              "      fill: #FFFFFF;\n",
              "    }\n",
              "  </style>\n",
              "\n",
              "      <script>\n",
              "        const buttonEl =\n",
              "          document.querySelector('#df-eff9dc22-9f34-47b1-88d2-0328fc7750c4 button.colab-df-convert');\n",
              "        buttonEl.style.display =\n",
              "          google.colab.kernel.accessAllowed ? 'block' : 'none';\n",
              "\n",
              "        async function convertToInteractive(key) {\n",
              "          const element = document.querySelector('#df-eff9dc22-9f34-47b1-88d2-0328fc7750c4');\n",
              "          const dataTable =\n",
              "            await google.colab.kernel.invokeFunction('convertToInteractive',\n",
              "                                                     [key], {});\n",
              "          if (!dataTable) return;\n",
              "\n",
              "          const docLinkHtml = 'Like what you see? Visit the ' +\n",
              "            '<a target=\"_blank\" href=https://colab.research.google.com/notebooks/data_table.ipynb>data table notebook</a>'\n",
              "            + ' to learn more about interactive tables.';\n",
              "          element.innerHTML = '';\n",
              "          dataTable['output_type'] = 'display_data';\n",
              "          await google.colab.output.renderOutput(dataTable, element);\n",
              "          const docLink = document.createElement('div');\n",
              "          docLink.innerHTML = docLinkHtml;\n",
              "          element.appendChild(docLink);\n",
              "        }\n",
              "      </script>\n",
              "    </div>\n",
              "  </div>\n",
              "  "
            ]
          },
          "metadata": {},
          "execution_count": 14
        }
      ],
      "source": [
        "quora_train[quora_train['is_duplicate'] == 1][['question1', 'question2']].head()"
      ]
    },
    {
      "cell_type": "code",
      "execution_count": 15,
      "metadata": {
        "colab": {
          "base_uri": "https://localhost:8080/",
          "height": 206
        },
        "id": "vtS2ZDTt41Ox",
        "outputId": "5fb9c016-7dc3-481c-9112-d4a7c784ec6d"
      },
      "outputs": [
        {
          "output_type": "execute_result",
          "data": {
            "text/plain": [
              "                                           question1  \\\n",
              "0  What is the step by step guide to invest in sh...   \n",
              "1  What is the story of Kohinoor (Koh-i-Noor) Dia...   \n",
              "2  How can I increase the speed of my internet co...   \n",
              "3  Why am I mentally very lonely? How can I solve...   \n",
              "4  Which one dissolve in water quikly sugar, salt...   \n",
              "\n",
              "                                           question2  \n",
              "0  What is the step by step guide to invest in sh...  \n",
              "1  What would happen if the Indian government sto...  \n",
              "2  How can Internet speed be increased by hacking...  \n",
              "3  Find the remainder when [math]23^{24}[/math] i...  \n",
              "4            Which fish would survive in salt water?  "
            ],
            "text/html": [
              "\n",
              "  <div id=\"df-31753552-f228-413f-b49e-d8f990d00183\">\n",
              "    <div class=\"colab-df-container\">\n",
              "      <div>\n",
              "<style scoped>\n",
              "    .dataframe tbody tr th:only-of-type {\n",
              "        vertical-align: middle;\n",
              "    }\n",
              "\n",
              "    .dataframe tbody tr th {\n",
              "        vertical-align: top;\n",
              "    }\n",
              "\n",
              "    .dataframe thead th {\n",
              "        text-align: right;\n",
              "    }\n",
              "</style>\n",
              "<table border=\"1\" class=\"dataframe\">\n",
              "  <thead>\n",
              "    <tr style=\"text-align: right;\">\n",
              "      <th></th>\n",
              "      <th>question1</th>\n",
              "      <th>question2</th>\n",
              "    </tr>\n",
              "  </thead>\n",
              "  <tbody>\n",
              "    <tr>\n",
              "      <th>0</th>\n",
              "      <td>What is the step by step guide to invest in sh...</td>\n",
              "      <td>What is the step by step guide to invest in sh...</td>\n",
              "    </tr>\n",
              "    <tr>\n",
              "      <th>1</th>\n",
              "      <td>What is the story of Kohinoor (Koh-i-Noor) Dia...</td>\n",
              "      <td>What would happen if the Indian government sto...</td>\n",
              "    </tr>\n",
              "    <tr>\n",
              "      <th>2</th>\n",
              "      <td>How can I increase the speed of my internet co...</td>\n",
              "      <td>How can Internet speed be increased by hacking...</td>\n",
              "    </tr>\n",
              "    <tr>\n",
              "      <th>3</th>\n",
              "      <td>Why am I mentally very lonely? How can I solve...</td>\n",
              "      <td>Find the remainder when [math]23^{24}[/math] i...</td>\n",
              "    </tr>\n",
              "    <tr>\n",
              "      <th>4</th>\n",
              "      <td>Which one dissolve in water quikly sugar, salt...</td>\n",
              "      <td>Which fish would survive in salt water?</td>\n",
              "    </tr>\n",
              "  </tbody>\n",
              "</table>\n",
              "</div>\n",
              "      <button class=\"colab-df-convert\" onclick=\"convertToInteractive('df-31753552-f228-413f-b49e-d8f990d00183')\"\n",
              "              title=\"Convert this dataframe to an interactive table.\"\n",
              "              style=\"display:none;\">\n",
              "        \n",
              "  <svg xmlns=\"http://www.w3.org/2000/svg\" height=\"24px\"viewBox=\"0 0 24 24\"\n",
              "       width=\"24px\">\n",
              "    <path d=\"M0 0h24v24H0V0z\" fill=\"none\"/>\n",
              "    <path d=\"M18.56 5.44l.94 2.06.94-2.06 2.06-.94-2.06-.94-.94-2.06-.94 2.06-2.06.94zm-11 1L8.5 8.5l.94-2.06 2.06-.94-2.06-.94L8.5 2.5l-.94 2.06-2.06.94zm10 10l.94 2.06.94-2.06 2.06-.94-2.06-.94-.94-2.06-.94 2.06-2.06.94z\"/><path d=\"M17.41 7.96l-1.37-1.37c-.4-.4-.92-.59-1.43-.59-.52 0-1.04.2-1.43.59L10.3 9.45l-7.72 7.72c-.78.78-.78 2.05 0 2.83L4 21.41c.39.39.9.59 1.41.59.51 0 1.02-.2 1.41-.59l7.78-7.78 2.81-2.81c.8-.78.8-2.07 0-2.86zM5.41 20L4 18.59l7.72-7.72 1.47 1.35L5.41 20z\"/>\n",
              "  </svg>\n",
              "      </button>\n",
              "      \n",
              "  <style>\n",
              "    .colab-df-container {\n",
              "      display:flex;\n",
              "      flex-wrap:wrap;\n",
              "      gap: 12px;\n",
              "    }\n",
              "\n",
              "    .colab-df-convert {\n",
              "      background-color: #E8F0FE;\n",
              "      border: none;\n",
              "      border-radius: 50%;\n",
              "      cursor: pointer;\n",
              "      display: none;\n",
              "      fill: #1967D2;\n",
              "      height: 32px;\n",
              "      padding: 0 0 0 0;\n",
              "      width: 32px;\n",
              "    }\n",
              "\n",
              "    .colab-df-convert:hover {\n",
              "      background-color: #E2EBFA;\n",
              "      box-shadow: 0px 1px 2px rgba(60, 64, 67, 0.3), 0px 1px 3px 1px rgba(60, 64, 67, 0.15);\n",
              "      fill: #174EA6;\n",
              "    }\n",
              "\n",
              "    [theme=dark] .colab-df-convert {\n",
              "      background-color: #3B4455;\n",
              "      fill: #D2E3FC;\n",
              "    }\n",
              "\n",
              "    [theme=dark] .colab-df-convert:hover {\n",
              "      background-color: #434B5C;\n",
              "      box-shadow: 0px 1px 3px 1px rgba(0, 0, 0, 0.15);\n",
              "      filter: drop-shadow(0px 1px 2px rgba(0, 0, 0, 0.3));\n",
              "      fill: #FFFFFF;\n",
              "    }\n",
              "  </style>\n",
              "\n",
              "      <script>\n",
              "        const buttonEl =\n",
              "          document.querySelector('#df-31753552-f228-413f-b49e-d8f990d00183 button.colab-df-convert');\n",
              "        buttonEl.style.display =\n",
              "          google.colab.kernel.accessAllowed ? 'block' : 'none';\n",
              "\n",
              "        async function convertToInteractive(key) {\n",
              "          const element = document.querySelector('#df-31753552-f228-413f-b49e-d8f990d00183');\n",
              "          const dataTable =\n",
              "            await google.colab.kernel.invokeFunction('convertToInteractive',\n",
              "                                                     [key], {});\n",
              "          if (!dataTable) return;\n",
              "\n",
              "          const docLinkHtml = 'Like what you see? Visit the ' +\n",
              "            '<a target=\"_blank\" href=https://colab.research.google.com/notebooks/data_table.ipynb>data table notebook</a>'\n",
              "            + ' to learn more about interactive tables.';\n",
              "          element.innerHTML = '';\n",
              "          dataTable['output_type'] = 'display_data';\n",
              "          await google.colab.output.renderOutput(dataTable, element);\n",
              "          const docLink = document.createElement('div');\n",
              "          docLink.innerHTML = docLinkHtml;\n",
              "          element.appendChild(docLink);\n",
              "        }\n",
              "      </script>\n",
              "    </div>\n",
              "  </div>\n",
              "  "
            ]
          },
          "metadata": {},
          "execution_count": 15
        }
      ],
      "source": [
        "quora_train[quora_train['is_duplicate'] == 0][['question1', 'question2']].head()"
      ]
    },
    {
      "cell_type": "code",
      "source": [
        "from scipy.spatial.distance import cosine, jaccard, canberra, euclidean\n",
        "from sklearn.feature_extraction.text import TfidfVectorizer\n",
        "from sklearn.linear_model import LogisticRegression\n",
        "from sklearn.preprocessing import StandardScaler\n",
        "from sklearn.decomposition import TruncatedSVD\n",
        "from nltk.corpus import stopwords\n",
        "from nltk import word_tokenize\n",
        "from google.colab import drive\n",
        "import xgboost as xgb\n",
        "import numpy as np\n",
        "import zipfile\n",
        "import gensim\n",
        "import nltk\n",
        "import copy"
      ],
      "metadata": {
        "id": "4ni932G5hRlo"
      },
      "execution_count": 16,
      "outputs": []
    },
    {
      "cell_type": "code",
      "source": [
        "def create_feature_set__1(quora_train):\n",
        "  \"\"\"\n",
        "    Creating feature set 1 for the input\n",
        "    args: quora_train: list of question pairs\n",
        "  \"\"\"\n",
        "  # length based features\n",
        "  quora_train['length_q1'] = quora_train['question1'].apply(\n",
        "      lambda x: len(str(x)))\n",
        "  quora_train['length_q2'] = quora_train['question2'].apply(\n",
        "      lambda x: len(str(x)))\n",
        "\n",
        "  # difference in lengths of two questions\n",
        "  quora_train['difference_in_length'] = quora_train['length_q1'] - quora_train['length_q2']\n",
        "\n",
        "  # character length based features\n",
        "  quora_train['length_of_character_in_q1'] = quora_train['question1'].apply(\n",
        "      lambda x: len(''.join(set(str(x).replace(' ', '')))))\n",
        "  quora_train['length_of_character_in_q2'] = quora_train['question2'].apply(\n",
        "      lambda x: len(''.join(set(str(x).replace(' ', '')))))\n",
        "\n",
        "  # word length based features\n",
        "  quora_train['length_of_word_in_q1'] = quora_train['question1'].apply(\n",
        "      lambda x: len(str(x).split()))\n",
        "  quora_train['length_of_word_in_q2'] = quora_train['question2'].apply(\n",
        "      lambda x: len(str(x).split()))\n",
        "\n",
        "  # common words in the two questions\n",
        "  quora_train['common_words'] = quora_train.apply(\n",
        "      lambda x: len(set(str(x['question1']).lower().split()).intersection(set(str(x['question2'])\n",
        "                                                            .lower()\n",
        "                                                            .split()))), axis=1)\n",
        "  print('Created Feature Set 1 - \\'length_q1\\', \\'length_q2\\', \\'difference_in_length\\', \\'length_of_character_in_q1\\', \\'length_of_character_in_q2\\', \\'length_of_word_in_q1\\', \\'length_of_word_in_q2\\', \\'common_words\\'')"
      ],
      "metadata": {
        "id": "csIrN_y4evfd"
      },
      "execution_count": 17,
      "outputs": []
    },
    {
      "cell_type": "code",
      "execution_count": 18,
      "metadata": {
        "id": "DD-U_2tRHaha"
      },
      "outputs": [],
      "source": [
        "# Creating feature set 1\n",
        "create_feature_set__1(quora_train)"
      ]
    },
    {
      "cell_type": "code",
      "source": [
        "# Initializing the TF-IDF vectorizer for question 1\n",
        "tfidf_vectorized__q1 = TfidfVectorizer(min_df=3, \n",
        "                         max_features=None, \n",
        "                         strip_accents='unicode', \n",
        "                         analyzer='word', \n",
        "                         token_pattern=r'\\w{1,}',\n",
        "                         ngram_range=(1, 2), \n",
        "                         use_idf=1, \n",
        "                         smooth_idf=1, \n",
        "                         sublinear_tf=1,\n",
        "                         stop_words='english')\n",
        "\n",
        "# Initializing the TF-IDF vectorizer for question 2\n",
        "tfidf_vectorized__q2 = copy.deepcopy(tfidf_vectorized__q1)"
      ],
      "metadata": {
        "id": "1AjMjdNG1wEC"
      },
      "execution_count": 19,
      "outputs": []
    },
    {
      "cell_type": "code",
      "execution_count": 20,
      "metadata": {
        "id": "8plzQvGveYiA"
      },
      "outputs": [],
      "source": [
        "# Fit the TFIDF Vectorizer to our question 1\n",
        "q1_tfidf_transformed = tfidf_vectorized__q1.fit_transform(quora_train['question1'].fillna(\"\"))\n",
        "\n",
        "# Fit the TFIDF Vectorizer to our question 2\n",
        "q2_tfidf_transformed = tfidf_vectorized__q2.fit_transform(quora_train['question2'].fillna(\"\"))"
      ]
    },
    {
      "cell_type": "code",
      "execution_count": 21,
      "metadata": {
        "id": "SewiGP0reiih"
      },
      "outputs": [],
      "source": [
        "# Using SVD to select 180 most important compnents\n",
        "svd_q1 = TruncatedSVD(n_components=180)\n",
        "svd_q2 = TruncatedSVD(n_components=180)"
      ]
    },
    {
      "cell_type": "code",
      "execution_count": 22,
      "metadata": {
        "id": "ciHWm-YLfBIz"
      },
      "outputs": [],
      "source": [
        "question1_vectors = svd_q1.fit_transform(q1_tfidf_transformed)\n",
        "question2_vectors = svd_q2.fit_transform(q2_tfidf_transformed)"
      ]
    },
    {
      "cell_type": "code",
      "execution_count": null,
      "metadata": {
        "id": "Yj8LpSfLQSwc"
      },
      "outputs": [],
      "source": [
        "drive.mount('/content/gdrive')"
      ]
    },
    {
      "cell_type": "code",
      "execution_count": null,
      "metadata": {
        "id": "LF4goGb3QWrF"
      },
      "outputs": [],
      "source": [
        "!cp '/content/gdrive/MyDrive/GoogleNews-vectors-negative300.bin.gz' '/content/GoogleNews-vectors-negative300.bin.gz'"
      ]
    },
    {
      "cell_type": "code",
      "execution_count": null,
      "metadata": {
        "id": "WxKbLBUGkFMY"
      },
      "outputs": [],
      "source": [
        "model = gensim.models.KeyedVectors.load_word2vec_format('/content/GoogleNews-vectors-negative300.bin.gz', binary=True)"
      ]
    },
    {
      "cell_type": "code",
      "execution_count": null,
      "metadata": {
        "id": "G8d3b-UsikvI"
      },
      "outputs": [],
      "source": [
        "nltk.download('punkt')\n",
        "nltk.download('stopwords')"
      ]
    },
    {
      "cell_type": "code",
      "source": [
        "stop_words = set(stopwords.words('english'))"
      ],
      "metadata": {
        "id": "Ju-l0-KB4a8G"
      },
      "execution_count": null,
      "outputs": []
    },
    {
      "cell_type": "code",
      "source": [
        "print(stop_words)"
      ],
      "metadata": {
        "id": "Q6CQRZ7i4dv5"
      },
      "execution_count": null,
      "outputs": []
    },
    {
      "cell_type": "code",
      "execution_count": null,
      "metadata": {
        "id": "0Z_IYkpLjGLY"
      },
      "outputs": [],
      "source": [
        "def sentence2vectors(sentence, model):  \n",
        "    M = []\n",
        "    words = word_tokenize(str(sentence).lower())\n",
        "    for word in words:\n",
        "        #It shouldn't be a stopword\n",
        "        if word not in stop_words:\n",
        "            #nor contain numbers\n",
        "            if word.isalpha():\n",
        "                #and be part of word2vec\n",
        "                if word in model:\n",
        "                    M.append(model[word])\n",
        "    M = np.array(M)\n",
        "    if len(M) > 0:\n",
        "        v = M.sum(axis=0)\n",
        "        return v / np.sqrt((v ** 2).sum())\n",
        "    else:\n",
        "        return np.zeros(300)"
      ]
    },
    {
      "cell_type": "code",
      "source": [
        "def word_mover_distance(sentence1, sentence2, model):\n",
        "    sentence1 = str(sentence1).lower().split()\n",
        "    sentence2 = str(sentence2).lower().split()\n",
        "    stop_words = stopwords.words('english')\n",
        "    sentence1 = [w for w in sentence1 if w not in stop_words]\n",
        "    sentence2 = [w for w in sentence2 if w not in stop_words]\n",
        "    return model.wmdistance(sentence1, sentence2)"
      ],
      "metadata": {
        "id": "EVGWhpTh5zoL"
      },
      "execution_count": null,
      "outputs": []
    },
    {
      "cell_type": "code",
      "source": [
        "def create_feature_set__2(quora_train):\n",
        "  \"\"\"\n",
        "    Creating feature set 2 for the input\n",
        "    args: quora_train: list of question pairs\n",
        "  \"\"\"\n",
        "  # creating word2vectors for question 1 and 2\n",
        "  word2vectors__q1 = np.array([sentence2vectors(question, model) for question in quora_train['question1']])\n",
        "  word2vectors__q2 = np.array([sentence2vectors(question, model) for question in quora_train['question2']])\n",
        "\n",
        "  #calculating cosine_distance, jaccard_distance, canberra_distance, euclidean_distance and word_mover_distance\n",
        "  quora_train['cosine_distance'] = [cosine(x,y) for (x,y) in zip(word2vectors__q1, word2vectors__q2)]\n",
        "  quora_train['jaccard_distance'] = [jaccard(x,y) for (x,y) in zip(word2vectors__q1, word2vectors__q2)]\n",
        "  quora_train['canberra_distance'] = [canberra(x,y) for (x,y) in zip(word2vectors__q1, word2vectors__q2)]\n",
        "  quora_train['euclidean_distance'] = [euclidean(x,y) for (x,y) in zip(word2vectors__q1, word2vectors__q2)]\n",
        "  quora_train['word_mover_distance'] = quora_train.apply(\n",
        "      lambda x: word_mover_distance(x['question1'], x['question2'], model), axis=1)\n",
        "  print('Created Feature Set 2 - \\'cosine_distance\\', \\'jaccard_distance\\', \\'canberra_distance\\', \\'euclidean_distance\\', \\'word_mover_distance\\'')"
      ],
      "metadata": {
        "id": "CAla9M_Oh14E"
      },
      "execution_count": null,
      "outputs": []
    },
    {
      "cell_type": "code",
      "source": [
        "# Creating feature set 2\n",
        "create_feature_set__2(quora_train)"
      ],
      "metadata": {
        "id": "qpRUS7YniNH0"
      },
      "execution_count": null,
      "outputs": []
    },
    {
      "cell_type": "code",
      "execution_count": null,
      "metadata": {
        "id": "-d0HRUM2aMpU"
      },
      "outputs": [],
      "source": [
        "feature_set__1 = [\n",
        "                  'length_q1', \n",
        "                  'length_q2', \n",
        "                  'difference_in_length', \n",
        "                  'length_of_character_in_q1', \n",
        "                  'length_of_character_in_q2', \n",
        "                  'length_of_word_in_q1', \n",
        "                  'length_of_word_in_q2', \n",
        "                  'common_words'\n",
        "                  ]"
      ]
    },
    {
      "cell_type": "code",
      "execution_count": null,
      "metadata": {
        "id": "2z9a5xJna1WR"
      },
      "outputs": [],
      "source": [
        "feature_set__2 = [\n",
        "                  'cosine_distance', \n",
        "                  'jaccard_distance', \n",
        "                  'canberra_distance', \n",
        "                  'euclidean_distance', \n",
        "                  'word_mover_distance'\n",
        "                  ]"
      ]
    },
    {
      "cell_type": "code",
      "source": [
        "# obtain features by stacking the question1_vectors and question2_vectors together\n",
        "feature_set__3 = np.hstack((question1_vectors, question2_vectors))"
      ],
      "metadata": {
        "id": "7QFwywsW0iIj"
      },
      "execution_count": null,
      "outputs": []
    },
    {
      "cell_type": "code",
      "source": [
        "scaler = StandardScaler()"
      ],
      "metadata": {
        "id": "-UijYyFR0umA"
      },
      "execution_count": null,
      "outputs": []
    },
    {
      "cell_type": "code",
      "source": [
        "X = quora_train[feature_set__1 + feature_set__2]\n",
        "# replace infinity values with NaN, then fill it with 0\n",
        "X = X.replace([np.inf, -np.inf], np.nan).fillna(0).values\n",
        "X = scaler.fit_transform(X)\n",
        "# add the feature set 3 of stacked question 1 and 2 vectors\n",
        "X = np.hstack((X, feature_set__3))"
      ],
      "metadata": {
        "id": "dg6-urA272vE"
      },
      "execution_count": null,
      "outputs": []
    },
    {
      "cell_type": "code",
      "execution_count": null,
      "metadata": {
        "id": "rCvEg_Cl9O0-"
      },
      "outputs": [],
      "source": [
        "# take the labels as 'is_duplicate' from quora_train\n",
        "y = quora_train['is_duplicate'].values.astype('float32').reshape(-1, 1)"
      ]
    },
    {
      "cell_type": "code",
      "source": [
        "np.random.seed(42)\n",
        "n_rows, n_columns = y.shape"
      ],
      "metadata": {
        "id": "fqMGCHEC6S5P"
      },
      "execution_count": null,
      "outputs": []
    },
    {
      "cell_type": "code",
      "source": [
        "index = np.arange(n_rows)\n",
        "np.random.shuffle(index)\n",
        "n_split = n_rows // 10\n",
        "index_train = index[n_split:]\n",
        "index_val = index[:n_split]"
      ],
      "metadata": {
        "id": "e7lpo93E8Nhz"
      },
      "execution_count": null,
      "outputs": []
    },
    {
      "cell_type": "code",
      "source": [
        "x_train = X[index_train]\n",
        "# without using np.ravel the regression goes haywire.\n",
        "y_train = np.ravel(y[index_train])"
      ],
      "metadata": {
        "id": "Eqj03U3D8p3C"
      },
      "execution_count": null,
      "outputs": []
    },
    {
      "cell_type": "code",
      "execution_count": null,
      "metadata": {
        "id": "NBMawEql9XS_"
      },
      "outputs": [],
      "source": [
        "x_val = X[index_val]\n",
        "# without using np.ravel the regression goes haywire.\n",
        "y_val = np.ravel(y[index_val])"
      ]
    },
    {
      "cell_type": "code",
      "execution_count": null,
      "metadata": {
        "id": "MhAsUZXw9cqq"
      },
      "outputs": [],
      "source": [
        "LogisticRegression = LogisticRegression(C=0.1, \n",
        "                                        solver='sag', \n",
        "                                        max_iter=1000)\n",
        "LogisticRegression.fit(x_train, y_train)"
      ]
    },
    {
      "cell_type": "code",
      "source": [
        "prediction = LogisticRegression.predict(x_val)\n",
        "accuracy = np.sum(prediction == y_val) / len(y_val)\n",
        "print(f\"Logistic Regression accuracy is {round(accuracy, 4) * 100}%\")"
      ],
      "metadata": {
        "id": "VlkIMklLkv9L"
      },
      "execution_count": null,
      "outputs": []
    },
    {
      "cell_type": "code",
      "source": [
        "param_set = {\n",
        "    'objective': 'binary:logistic',\n",
        "    'eval_metric': ['logloss', 'error'],\n",
        "    'eta': 0.01,\n",
        "    'max_depth': 4\n",
        "}"
      ],
      "metadata": {
        "id": "t_a2szSj-UQQ"
      },
      "execution_count": null,
      "outputs": []
    },
    {
      "cell_type": "code",
      "execution_count": null,
      "metadata": {
        "id": "d-hiqcj23bAs"
      },
      "outputs": [],
      "source": [
        "d_train = xgb.DMatrix(x_train, label=y_train)\n",
        "d_valid = xgb.DMatrix(x_val, label=y_val)"
      ]
    },
    {
      "cell_type": "code",
      "source": [
        "XGBRegressor = xgb.train(params=param_set,\n",
        "                         dtrain=d_train,\n",
        "                         num_boost_round=2000,\n",
        "                         evals=[(d_train, 'train'), (d_valid, 'valid')],\n",
        "                         early_stopping_rounds=20,\n",
        "                         verbose_eval=50)"
      ],
      "metadata": {
        "id": "scU9EOLWA98u"
      },
      "execution_count": null,
      "outputs": []
    },
    {
      "cell_type": "code",
      "source": [
        "xgb_prediction = (XGBRegressor.predict(d_valid) >= 0.5).astype(int)\n",
        "xgb_accuracy = np.sum(xgb_prediction == y_val) / len(y_val)\n",
        "print(f\"XGBoost Regression accuracy is {round(xgb_accuracy, 4) * 100}%\")"
      ],
      "metadata": {
        "id": "awOfPKCWEIst"
      },
      "execution_count": null,
      "outputs": []
    },
    {
      "cell_type": "code",
      "source": [
        ""
      ],
      "metadata": {
        "id": "DHguG5elA9qL"
      },
      "execution_count": null,
      "outputs": []
    },
    {
      "cell_type": "code",
      "execution_count": null,
      "metadata": {
        "colab": {
          "base_uri": "https://localhost:8080/"
        },
        "id": "RUlCT2Gq9iIV",
        "outputId": "1c036472-2b19-4d49-912d-950be63d927f"
      },
      "outputs": [
        {
          "output_type": "stream",
          "name": "stdout",
          "text": [
            "TensorFlow version 2.8.0\n"
          ]
        }
      ],
      "source": [
        "from tqdm.notebook import tqdm\n",
        "import tensorflow as tf\n",
        "import numpy as np\n",
        "print(\"TensorFlow version %s\" % tf.__version__)"
      ]
    },
    {
      "cell_type": "code",
      "execution_count": null,
      "metadata": {
        "id": "U5KERpJp9qfE"
      },
      "outputs": [],
      "source": [
        "try:\n",
        "    df = quora_train[['question1', 'question2', 'is_duplicate']]\n",
        "except:\n",
        "    df = pd.read_csv('/content/train.csv')\n",
        "    df = df.drop(['id', 'qid1', 'qid2'], axis=1)\n",
        "    \n",
        "df = df.fillna('')\n",
        "y = df['is_duplicate'].values"
      ]
    },
    {
      "cell_type": "code",
      "source": [
        "# Setting the parameters\n",
        "max_len = 40\n",
        "max_features = 200000\n",
        "kernel_size = 5\n",
        "num_filters = 64"
      ],
      "metadata": {
        "id": "6BwcXHlmVwTp"
      },
      "execution_count": null,
      "outputs": []
    },
    {
      "cell_type": "code",
      "source": [
        "tokenizer = tf.keras.preprocessing.text.Tokenizer(num_words=200000)\n",
        "tokenizer.fit_on_texts(list(df['question1'].values) + list(df['question2'].values.astype(str)))"
      ],
      "metadata": {
        "id": "QksNpVTuV9Ax"
      },
      "execution_count": null,
      "outputs": []
    },
    {
      "cell_type": "code",
      "source": [
        "x1 = tokenizer.texts_to_sequences(df.question1.values)\n",
        "x1 = tf.keras.preprocessing.sequence.pad_sequences(x1, maxlen=max_len)"
      ],
      "metadata": {
        "id": "_u1EO0fBWVJo"
      },
      "execution_count": null,
      "outputs": []
    },
    {
      "cell_type": "code",
      "source": [
        "x2 = tokenizer.texts_to_sequences(df.question2.values.astype(str))\n",
        "x2 = tf.keras.preprocessing.sequence.pad_sequences(x2, maxlen=max_len)"
      ],
      "metadata": {
        "id": "9EgcgBpiWYKi"
      },
      "execution_count": null,
      "outputs": []
    },
    {
      "cell_type": "code",
      "execution_count": null,
      "metadata": {
        "colab": {
          "base_uri": "https://localhost:8080/"
        },
        "id": "WMu-SxKh-3AB",
        "outputId": "4ecffdd9-b0a7-420d-d8d3-f33f30983b18"
      },
      "outputs": [
        {
          "output_type": "stream",
          "name": "stdout",
          "text": [
            "--2022-04-27 04:49:30--  http://nlp.stanford.edu/data/glove.840B.300d.zip\n",
            "Resolving nlp.stanford.edu (nlp.stanford.edu)... 171.64.67.140\n",
            "Connecting to nlp.stanford.edu (nlp.stanford.edu)|171.64.67.140|:80... connected.\n",
            "HTTP request sent, awaiting response... 302 Found\n",
            "Location: https://nlp.stanford.edu/data/glove.840B.300d.zip [following]\n",
            "--2022-04-27 04:49:30--  https://nlp.stanford.edu/data/glove.840B.300d.zip\n",
            "Connecting to nlp.stanford.edu (nlp.stanford.edu)|171.64.67.140|:443... connected.\n",
            "HTTP request sent, awaiting response... 301 Moved Permanently\n",
            "Location: http://downloads.cs.stanford.edu/nlp/data/glove.840B.300d.zip [following]\n",
            "--2022-04-27 04:49:31--  http://downloads.cs.stanford.edu/nlp/data/glove.840B.300d.zip\n",
            "Resolving downloads.cs.stanford.edu (downloads.cs.stanford.edu)... 171.64.64.22\n",
            "Connecting to downloads.cs.stanford.edu (downloads.cs.stanford.edu)|171.64.64.22|:80... connected.\n",
            "HTTP request sent, awaiting response... 200 OK\n",
            "Length: 2176768927 (2.0G) [application/zip]\n",
            "Saving to: ‘glove.840B.300d.zip’\n",
            "\n",
            "glove.840B.300d.zip 100%[===================>]   2.03G  5.32MB/s    in 6m 52s  \n",
            "\n",
            "2022-04-27 04:56:24 (5.03 MB/s) - ‘glove.840B.300d.zip’ saved [2176768927/2176768927]\n",
            "\n"
          ]
        }
      ],
      "source": [
        "!wget http://nlp.stanford.edu/data/glove.840B.300d.zip"
      ]
    },
    {
      "cell_type": "code",
      "source": [
        "word_index = tokenizer.word_index"
      ],
      "metadata": {
        "id": "ywAc9ZdfWjIZ"
      },
      "execution_count": null,
      "outputs": []
    },
    {
      "cell_type": "code",
      "execution_count": null,
      "metadata": {
        "colab": {
          "base_uri": "https://localhost:8080/",
          "height": 48,
          "referenced_widgets": [
            "31e7599ba1064c73a9ceb46d8250bc96",
            "119cb20722a44594aa7b42ad2b85e9b0",
            "84d8cbaab7644a82a377affb5188cdc3",
            "5f2b4207f53d4019a8b685769458e4b3",
            "9dc0b380da724b17954c9f435043c6c3",
            "1cf6b0b00a80412a8cfb5be7e86c7974",
            "c118785e1ad349c2951aad66ba82f7ce",
            "59c777b989a34ce7845e4ba6ad0c4902",
            "233ee09eb2cf4e82aa58c48efb739b74",
            "e0283a6547b24481896054fda8a20b3a",
            "357ba665eb534acb83c5a525b5314080"
          ]
        },
        "id": "ioaK74Rj-5i4",
        "outputId": "f8b22fb8-a8df-40d5-e542-c8ffec47cd9e"
      },
      "outputs": [
        {
          "output_type": "display_data",
          "data": {
            "text/plain": [
              "0it [00:00, ?it/s]"
            ],
            "application/vnd.jupyter.widget-view+json": {
              "version_major": 2,
              "version_minor": 0,
              "model_id": "31e7599ba1064c73a9ceb46d8250bc96"
            }
          },
          "metadata": {}
        }
      ],
      "source": [
        "embedding_matrix = np.zeros((len(word_index) + 1, 300), dtype='float32')\n",
        " \n",
        "glove_zip = zipfile.ZipFile('/content/glove.840B.300d.zip')\n",
        "glove_file = glove_zip.filelist[0]\n",
        " \n",
        "f_in = glove_zip.open(glove_file)\n",
        "for line in tqdm(f_in):\n",
        "    values = line.split(b' ')\n",
        "    word = values[0].decode()\n",
        "    if word not in word_index:\n",
        "        continue\n",
        "    i = word_index[word]\n",
        "    coefs = np.asarray(values[1:], dtype='float32')\n",
        "    embedding_matrix[i, :] = coefs\n",
        " \n",
        "f_in.close()\n",
        "glove_zip.close()"
      ]
    },
    {
      "cell_type": "code",
      "execution_count": null,
      "metadata": {
        "colab": {
          "base_uri": "https://localhost:8080/"
        },
        "id": "Y00FaDkREshl",
        "outputId": "b5b21411-1d4b-4b2d-8e2d-ca2b22661cfd"
      },
      "outputs": [
        {
          "output_type": "stream",
          "name": "stdout",
          "text": [
            "WARNING:tensorflow:Layer lstm will not use cuDNN kernels since it doesn't meet the criteria. It will use a generic GPU kernel as fallback when running on GPU.\n",
            "WARNING:tensorflow:Layer lstm_1 will not use cuDNN kernels since it doesn't meet the criteria. It will use a generic GPU kernel as fallback when running on GPU.\n"
          ]
        }
      ],
      "source": [
        "# # 1. question_1_model_1\n",
        "question_1_model_1_inputs = tf.keras.Input(dtype=tf.int32, shape=(max_len))\n",
        "glove_embeddings = tf.keras.layers.Embedding(len(word_index) + 1,\n",
        "                                             300,\n",
        "                                             weights=[embedding_matrix],\n",
        "                                             input_length=40,\n",
        "                                             trainable=False)(question_1_model_1_inputs)\n",
        "x = tf.keras.layers.TimeDistributed(tf.keras.layers.Dense(300,\n",
        "                                                          activation='relu'))(glove_embeddings)\n",
        "output_layer = tf.keras.layers.Lambda(lambda x: tf.keras.backend.sum(x, axis=1),\n",
        "                                      output_shape=(300,))(x)\n",
        "question_1_model_1 = tf.keras.Model(inputs=question_1_model_1_inputs,\n",
        "                                    outputs=output_layer)\n",
        "\n",
        "# # 2. question_2_model_1\n",
        "question_2_model_1_inputs = tf.keras.Input(dtype=tf.int32, shape=(max_len))\n",
        "glove_embeddings = tf.keras.layers.Embedding(len(word_index) + 1,\n",
        "                                             300,\n",
        "                                             weights=[embedding_matrix],\n",
        "                                             input_length=40,\n",
        "                                             trainable=False)(question_2_model_1_inputs)\n",
        "x = tf.keras.layers.TimeDistributed(tf.keras.layers.Dense(300,\n",
        "                                                          activation='relu'))(glove_embeddings)\n",
        "output_layer = tf.keras.layers.Lambda(lambda x: tf.keras.backend.sum(x, axis=1),\n",
        "                                      output_shape=(300,))(x)\n",
        "question_2_model_1 = tf.keras.Model(inputs=question_2_model_1_inputs,\n",
        "                                    outputs=output_layer)\n",
        "\n",
        "# # 3. question_1_model_2\n",
        "question_1_model_2_inputs = tf.keras.Input(dtype=tf.int32, shape=(max_len))\n",
        "glove_embeddings = tf.keras.layers.Embedding(len(word_index) + 1,\n",
        "                                             300,\n",
        "                                             weights=[embedding_matrix],\n",
        "                                             input_length=40,\n",
        "                                             trainable=False)(question_1_model_2_inputs)\n",
        "x = tf.keras.layers.Convolution1D(filters=num_filters,\n",
        "                                  kernel_size=kernel_size,\n",
        "                                  padding='valid',\n",
        "                                  activation='relu')(glove_embeddings)\n",
        "x = tf.keras.layers.Dropout(0.2)(x)\n",
        "x = tf.keras.layers.Convolution1D(filters=num_filters,\n",
        "                                  kernel_size=kernel_size,\n",
        "                                  padding='valid',\n",
        "                                  activation='relu')(x)\n",
        "x = tf.keras.layers.GlobalMaxPooling1D()(x)\n",
        "x = tf.keras.layers.Dropout(0.2)(x)\n",
        "x = tf.keras.layers.Dense(300)(x)\n",
        "x = tf.keras.layers.Dropout(0.2)(x)\n",
        "output_layer = tf.keras.layers.BatchNormalization()(x)\n",
        "question_1_model_2 = tf.keras.Model(inputs=question_1_model_2_inputs,\n",
        "                                    outputs=output_layer)\n",
        "\n",
        "# # 4. question_2_model_2\n",
        "question_2_model_2_inputs = tf.keras.Input(dtype=tf.int32, shape=(max_len))\n",
        "glove_embeddings = tf.keras.layers.Embedding(len(word_index) + 1,\n",
        "                                             300,\n",
        "                                             weights=[embedding_matrix],\n",
        "                                             input_length=40,\n",
        "                                             trainable=False)(question_2_model_2_inputs)\n",
        "x = tf.keras.layers.Convolution1D(filters=num_filters,\n",
        "                                  kernel_size=kernel_size,\n",
        "                                  padding='valid',\n",
        "                                  activation='relu')(glove_embeddings)\n",
        "x = tf.keras.layers.Dropout(0.2)(x)\n",
        "x = tf.keras.layers.Convolution1D(filters=num_filters,\n",
        "                                  kernel_size=kernel_size,\n",
        "                                  padding='valid',\n",
        "                                  activation='relu')(x)\n",
        "x = tf.keras.layers.GlobalMaxPooling1D()(x)\n",
        "x = tf.keras.layers.Dropout(0.2)(x)\n",
        "x = tf.keras.layers.Dense(300)(x)\n",
        "x = tf.keras.layers.Dropout(0.2)(x)\n",
        "output_layer = tf.keras.layers.BatchNormalization()(x)\n",
        "question_2_model_2 = tf.keras.Model(inputs=question_2_model_2_inputs,\n",
        "                                    outputs=output_layer)\n",
        "\n",
        "# # 5. question_1_model_3\n",
        "question_1_model_3_inputs = tf.keras.Input(dtype=tf.int32, shape=(max_len))\n",
        "embeddings = tf.keras.layers.Embedding(len(word_index) + 1, \n",
        "                                       300, \n",
        "                                       input_length=40)(question_1_model_3_inputs)\n",
        "x = tf.keras.layers.Dropout(0.2)(embeddings)\n",
        "x = tf.keras.layers.LSTM(300, recurrent_dropout=0.2)(x)\n",
        "output_layer = tf.keras.layers.Dropout(0.2)(x)\n",
        "question_1_model_3 = tf.keras.Model(inputs=question_1_model_3_inputs,\n",
        "                                    outputs=output_layer)\n",
        "\n",
        "# # 6. question_2_model_3\n",
        "question_2_model_3_inputs = tf.keras.Input(dtype=tf.int32, shape=(max_len))\n",
        "embeddings = tf.keras.layers.Embedding(len(word_index) + 1, \n",
        "                                       300, \n",
        "                                       input_length=40)(question_2_model_3_inputs)\n",
        "x = tf.keras.layers.Dropout(0.2)(embeddings)\n",
        "x = tf.keras.layers.LSTM(300, recurrent_dropout=0.2)(x)\n",
        "output_layer = tf.keras.layers.Dropout(0.2)(x)\n",
        "question_2_model_3 = tf.keras.Model(inputs=question_2_model_3_inputs,\n",
        "                                    outputs=output_layer)\n",
        "\n",
        "# Merged Model\n",
        "merged_model = tf.keras.layers.Concatenate()([question_1_model_1.output, question_2_model_1.output, \n",
        "                                              question_1_model_2.output, question_2_model_2.output,\n",
        "                                              question_1_model_3.output, question_2_model_3.output])\n",
        "\n",
        "x = tf.keras.layers.BatchNormalization()(merged_model)\n",
        "\n",
        "for _ in range(5):\n",
        "  x = tf.keras.layers.Dense(300)(x)\n",
        "  x = tf.keras.layers.PReLU()(x)\n",
        "  x = tf.keras.layers.Dropout(0.2)(x)\n",
        "  x = tf.keras.layers.BatchNormalization()(x)\n",
        "\n",
        "final_output = tf.keras.layers.Dense(1, activation='sigmoid')(x)\n",
        "\n",
        "final_model = tf.keras.Model(inputs=[question_1_model_1.input, question_2_model_1.input,\n",
        "                                     question_1_model_2.input, question_2_model_2.input,\n",
        "                                     question_1_model_3.input, question_2_model_3.input],\n",
        "                             outputs=final_output)"
      ]
    },
    {
      "cell_type": "code",
      "execution_count": null,
      "metadata": {
        "colab": {
          "base_uri": "https://localhost:8080/",
          "height": 1000
        },
        "id": "wrX3sIQslLZ4",
        "outputId": "543aa150-1bba-48aa-894a-8ee95907e47b"
      },
      "outputs": [
        {
          "output_type": "execute_result",
          "data": {
            "text/plain": [
              "<IPython.core.display.Image object>"
            ],
            "image/png": "[encoded data removed]"
          },
          "metadata": {},
          "execution_count": 85
        }
      ],
      "source": [
        "tf.keras.utils.plot_model(final_model)"
      ]
    },
    {
      "cell_type": "code",
      "execution_count": null,
      "metadata": {
        "id": "Mlar5gVqJf7E"
      },
      "outputs": [],
      "source": [
        "final_model.compile(loss=tf.keras.losses.BinaryCrossentropy(), \n",
        "                    optimizer=tf.keras.optimizers.Adam(),\n",
        "                    metrics=['accuracy'])"
      ]
    },
    {
      "cell_type": "code",
      "execution_count": null,
      "metadata": {
        "id": "OkNjEmwaqWwJ"
      },
      "outputs": [],
      "source": [
        "model_checkpoint = tf.keras.callbacks.ModelCheckpoint('weights.h5', \n",
        "                                                      monitor='val_accuracy', \n",
        "                                                      save_best_only=True, \n",
        "                                                      verbose=2)"
      ]
    },
    {
      "cell_type": "code",
      "source": [
        "model_inputs = [x1, x2, x1, x2, x1, x2]"
      ],
      "metadata": {
        "id": "d0fUnhNxXusN"
      },
      "execution_count": null,
      "outputs": []
    },
    {
      "cell_type": "code",
      "execution_count": null,
      "metadata": {
        "colab": {
          "base_uri": "https://localhost:8080/"
        },
        "id": "Vr60rFNt_wz_",
        "outputId": "0b9a1a60-a401-4cb5-e782-8aa4aac68f77"
      },
      "outputs": [
        {
          "output_type": "stream",
          "name": "stdout",
          "text": [
            "Epoch 1/15\n",
            "948/948 [==============================] - ETA: 0s - loss: 0.5131 - accuracy: 0.7426\n",
            "Epoch 1: val_accuracy improved from -inf to 0.79114, saving model to weights.h5\n",
            "948/948 [==============================] - 304s 301ms/step - loss: 0.5131 - accuracy: 0.7426 - val_loss: 0.4374 - val_accuracy: 0.7911\n",
            "Epoch 2/15\n",
            "948/948 [==============================] - ETA: 0s - loss: 0.4015 - accuracy: 0.8115\n",
            "Epoch 2: val_accuracy improved from 0.79114 to 0.79982, saving model to weights.h5\n",
            "948/948 [==============================] - 278s 293ms/step - loss: 0.4015 - accuracy: 0.8115 - val_loss: 0.4189 - val_accuracy: 0.7998\n",
            "Epoch 3/15\n",
            "948/948 [==============================] - ETA: 0s - loss: 0.3260 - accuracy: 0.8519\n",
            "Epoch 3: val_accuracy improved from 0.79982 to 0.80012, saving model to weights.h5\n",
            "948/948 [==============================] - 278s 293ms/step - loss: 0.3260 - accuracy: 0.8519 - val_loss: 0.4269 - val_accuracy: 0.8001\n",
            "Epoch 4/15\n",
            "948/948 [==============================] - ETA: 0s - loss: 0.2633 - accuracy: 0.8839\n",
            "Epoch 4: val_accuracy improved from 0.80012 to 0.80808, saving model to weights.h5\n",
            "948/948 [==============================] - 277s 292ms/step - loss: 0.2633 - accuracy: 0.8839 - val_loss: 0.4739 - val_accuracy: 0.8081\n",
            "Epoch 5/15\n",
            "948/948 [==============================] - ETA: 0s - loss: 0.2171 - accuracy: 0.9060\n",
            "Epoch 5: val_accuracy did not improve from 0.80808\n",
            "948/948 [==============================] - 273s 287ms/step - loss: 0.2171 - accuracy: 0.9060 - val_loss: 0.4928 - val_accuracy: 0.8027\n",
            "Epoch 6/15\n",
            "948/948 [==============================] - ETA: 0s - loss: 0.1830 - accuracy: 0.9218\n",
            "Epoch 6: val_accuracy improved from 0.80808 to 0.80873, saving model to weights.h5\n",
            "948/948 [==============================] - 276s 291ms/step - loss: 0.1830 - accuracy: 0.9218 - val_loss: 0.5641 - val_accuracy: 0.8087\n",
            "Epoch 7/15\n",
            "948/948 [==============================] - ETA: 0s - loss: 0.1580 - accuracy: 0.9334\n",
            "Epoch 7: val_accuracy did not improve from 0.80873\n",
            "948/948 [==============================] - 274s 289ms/step - loss: 0.1580 - accuracy: 0.9334 - val_loss: 0.6045 - val_accuracy: 0.8060\n",
            "Epoch 8/15\n",
            "948/948 [==============================] - ETA: 0s - loss: 0.1392 - accuracy: 0.9418\n",
            "Epoch 8: val_accuracy improved from 0.80873 to 0.80885, saving model to weights.h5\n",
            "948/948 [==============================] - 278s 293ms/step - loss: 0.1392 - accuracy: 0.9418 - val_loss: 0.6412 - val_accuracy: 0.8089\n",
            "Epoch 9/15\n",
            "948/948 [==============================] - ETA: 0s - loss: 0.1234 - accuracy: 0.9491\n",
            "Epoch 9: val_accuracy did not improve from 0.80885\n",
            "948/948 [==============================] - 273s 288ms/step - loss: 0.1234 - accuracy: 0.9491 - val_loss: 0.6963 - val_accuracy: 0.8089\n",
            "Epoch 10/15\n",
            "948/948 [==============================] - ETA: 0s - loss: 0.1105 - accuracy: 0.9548\n",
            "Epoch 10: val_accuracy did not improve from 0.80885\n",
            "948/948 [==============================] - 272s 287ms/step - loss: 0.1105 - accuracy: 0.9548 - val_loss: 0.6903 - val_accuracy: 0.8080\n",
            "Epoch 11/15\n",
            "948/948 [==============================] - ETA: 0s - loss: 0.0999 - accuracy: 0.9594\n",
            "Epoch 11: val_accuracy improved from 0.80885 to 0.81439, saving model to weights.h5\n",
            "948/948 [==============================] - 275s 290ms/step - loss: 0.0999 - accuracy: 0.9594 - val_loss: 0.7173 - val_accuracy: 0.8144\n",
            "Epoch 12/15\n",
            "948/948 [==============================] - ETA: 0s - loss: 0.0901 - accuracy: 0.9639\n",
            "Epoch 12: val_accuracy did not improve from 0.81439\n",
            "948/948 [==============================] - 272s 287ms/step - loss: 0.0901 - accuracy: 0.9639 - val_loss: 0.7170 - val_accuracy: 0.8068\n",
            "Epoch 13/15\n",
            "948/948 [==============================] - ETA: 0s - loss: 0.0828 - accuracy: 0.9672\n",
            "Epoch 13: val_accuracy improved from 0.81439 to 0.81456, saving model to weights.h5\n",
            "948/948 [==============================] - 275s 290ms/step - loss: 0.0828 - accuracy: 0.9672 - val_loss: 0.7962 - val_accuracy: 0.8146\n",
            "Epoch 14/15\n",
            "948/948 [==============================] - ETA: 0s - loss: 0.0749 - accuracy: 0.9703\n",
            "Epoch 14: val_accuracy did not improve from 0.81456\n",
            "948/948 [==============================] - 268s 283ms/step - loss: 0.0749 - accuracy: 0.9703 - val_loss: 0.8411 - val_accuracy: 0.8031\n",
            "Epoch 15/15\n",
            "948/948 [==============================] - ETA: 0s - loss: 0.0687 - accuracy: 0.9732\n",
            "Epoch 15: val_accuracy did not improve from 0.81456\n",
            "948/948 [==============================] - 269s 283ms/step - loss: 0.0687 - accuracy: 0.9732 - val_loss: 0.8833 - val_accuracy: 0.8071\n"
          ]
        }
      ],
      "source": [
        "final_model_history = final_model.fit(model_inputs, \n",
        "                                      y=y, \n",
        "                                      batch_size=384, \n",
        "                                      epochs=15,\n",
        "                                      verbose=1, \n",
        "                                      validation_split=0.1, \n",
        "                                      shuffle=True, \n",
        "                                      callbacks=[model_checkpoint])"
      ]
    },
    {
      "cell_type": "code",
      "source": [
        "final_model.save('/content/gdrive/MyDrive/machine_learning_models/practice/quora_question_similarity')"
      ],
      "metadata": {
        "colab": {
          "base_uri": "https://localhost:8080/"
        },
        "id": "oslXerm8eIGB",
        "outputId": "12c09219-7e5d-416f-f1b1-829c3b0edfcf"
      },
      "execution_count": null,
      "outputs": [
        {
          "output_type": "stream",
          "name": "stdout",
          "text": [
            "INFO:tensorflow:Assets written to: /content/gdrive/MyDrive/machine_learning_models/practice/quora_question_similarity/assets\n"
          ]
        },
        {
          "output_type": "stream",
          "name": "stderr",
          "text": [
            "WARNING:absl:<keras.layers.recurrent.LSTMCell object at 0x7ff4a54c7610> has the same name 'LSTMCell' as a built-in Keras object. Consider renaming <class 'keras.layers.recurrent.LSTMCell'> to avoid naming conflicts when loading with `tf.keras.models.load_model`. If renaming is not possible, pass the object in the `custom_objects` parameter of the load function.\n",
            "WARNING:absl:<keras.layers.recurrent.LSTMCell object at 0x7ff4a6071b10> has the same name 'LSTMCell' as a built-in Keras object. Consider renaming <class 'keras.layers.recurrent.LSTMCell'> to avoid naming conflicts when loading with `tf.keras.models.load_model`. If renaming is not possible, pass the object in the `custom_objects` parameter of the load function.\n"
          ]
        }
      ]
    },
    {
      "cell_type": "code",
      "execution_count": null,
      "metadata": {
        "id": "CdnWgwEGm_RC"
      },
      "outputs": [],
      "source": [
        "# # Auth Colab\n",
        "# from google.colab import auth\n",
        "# auth.authenticate_user()\n",
        "# !curl https://sdk.cloud.google.com | bash 1> /dev/null\n",
        "# !gcloud init"
      ]
    },
    {
      "cell_type": "code",
      "execution_count": null,
      "metadata": {
        "id": "C8Y9z0nenzR9"
      },
      "outputs": [],
      "source": [
        "# # Upload to GS (requires auth)\n",
        "# !gsutil cp -r quora_question_pairs_DL_82_3_percent gs://quora_question_pairs"
      ]
    },
    {
      "cell_type": "code",
      "execution_count": null,
      "metadata": {
        "colab": {
          "base_uri": "https://localhost:8080/"
        },
        "id": "Vw6yAktXznzL",
        "outputId": "99d8e551-55ff-44d9-e424-2f2908559d50"
      },
      "outputs": [
        {
          "output_type": "stream",
          "name": "stdout",
          "text": [
            "WARNING:tensorflow:Layer lstm will not use cuDNN kernels since it doesn't meet the criteria. It will use a generic GPU kernel as fallback when running on GPU.\n"
          ]
        },
        {
          "output_type": "stream",
          "name": "stderr",
          "text": [
            "WARNING:tensorflow:Layer lstm will not use cuDNN kernels since it doesn't meet the criteria. It will use a generic GPU kernel as fallback when running on GPU.\n"
          ]
        },
        {
          "output_type": "stream",
          "name": "stdout",
          "text": [
            "WARNING:tensorflow:Layer lstm_1 will not use cuDNN kernels since it doesn't meet the criteria. It will use a generic GPU kernel as fallback when running on GPU.\n"
          ]
        },
        {
          "output_type": "stream",
          "name": "stderr",
          "text": [
            "WARNING:tensorflow:Layer lstm_1 will not use cuDNN kernels since it doesn't meet the criteria. It will use a generic GPU kernel as fallback when running on GPU.\n"
          ]
        }
      ],
      "source": [
        "new_model = tf.keras.models.load_model('/content/gdrive/MyDrive/machine_learning_models/practice/quora_question_similarity')"
      ]
    },
    {
      "cell_type": "code",
      "execution_count": null,
      "metadata": {
        "colab": {
          "base_uri": "https://localhost:8080/"
        },
        "id": "X980_B0onNVu",
        "outputId": "0e3090a1-b7be-4aad-c715-8cb12403856d"
      },
      "outputs": [
        {
          "output_type": "stream",
          "name": "stdout",
          "text": [
            "1053/1053 [==============================] - 54s 50ms/step - loss: 0.1198 - accuracy: 0.9695\n"
          ]
        }
      ],
      "source": [
        "results = new_model.evaluate(model_inputs, y, batch_size=384)"
      ]
    },
    {
      "cell_type": "code",
      "source": [
        "def convert_text(text, tokenizer, pad_sequences):\n",
        "    x = tokenizer.texts_to_sequences(text)\n",
        "    x = pad_sequences(x, maxlen=max_len)\n",
        "    return x"
      ],
      "metadata": {
        "id": "7Yvw59I7rFH4"
      },
      "execution_count": null,
      "outputs": []
    },
    {
      "cell_type": "code",
      "source": [
        "def predict_similarity(question_1, question_2, model):\n",
        "  question_1 = convert_text([question_1], tokenizer, tf.keras.preprocessing.sequence.pad_sequences)\n",
        "  question_2 = convert_text([question_2], tokenizer, tf.keras.preprocessing.sequence.pad_sequences)\n",
        "  prediction = model.predict([question_1, question_2, \n",
        "                              question_1, question_2, \n",
        "                              question_1, question_2])\n",
        "  return round(prediction[0][0] * 100, 3) "
      ],
      "metadata": {
        "id": "SZzEsApVrHQu"
      },
      "execution_count": null,
      "outputs": []
    },
    {
      "cell_type": "code",
      "execution_count": null,
      "metadata": {
        "id": "BqvVuZ8s1TTC"
      },
      "outputs": [],
      "source": [
        "question_1 = \"Can nuclear fusion power cause global warming?\"\n",
        "question_2 = \"Is nuclear fusion power the reason for global warming?\""
      ]
    },
    {
      "cell_type": "code",
      "source": [
        "prediction = predict_similarity(question_1, question_2, new_model)\n",
        "print(f'Similarity between \\n \\'{question_1}\\' and \\n \\'{question_2}\\' \\n is {prediction}%')"
      ],
      "metadata": {
        "colab": {
          "base_uri": "https://localhost:8080/"
        },
        "id": "NszT_rOvtX2L",
        "outputId": "773d749e-e9d6-4f97-cc5e-476c64598670"
      },
      "execution_count": null,
      "outputs": [
        {
          "output_type": "stream",
          "name": "stdout",
          "text": [
            "Similarity between 'Can nuclear fusion power cause global warming?' and 'Is nuclear fusion power the reason for global warming?' is 99.999%\n"
          ]
        }
      ]
    },
    {
      "cell_type": "code",
      "source": [
        "question_1 = \"Is Jeff Bezos the founder of Amazon?\"\n",
        "question_2 = \"Is Amazon the best customer centric company in the world?\""
      ],
      "metadata": {
        "id": "UZNr5o9qtOoK"
      },
      "execution_count": null,
      "outputs": []
    },
    {
      "cell_type": "code",
      "source": [
        "prediction = predict_similarity(question_1, question_2, new_model)\n",
        "print(f'Similarity between \\n \\'{question_1}\\' and \\n \\'{question_2}\\' \\n is {prediction}%')"
      ],
      "metadata": {
        "colab": {
          "base_uri": "https://localhost:8080/"
        },
        "id": "BViaDRzSl9MY",
        "outputId": "8ae03d87-b794-40ee-8d65-0340244a2711"
      },
      "execution_count": null,
      "outputs": [
        {
          "output_type": "stream",
          "name": "stdout",
          "text": [
            "Similarity between 'Is Jeff Bezos the founder of Amazon?' and 'Is Amazon the best customer centric company in the world?' is 0.047%\n"
          ]
        }
      ]
    },
    {
      "cell_type": "code",
      "source": [
        ""
      ],
      "metadata": {
        "id": "yfprg4R2tI78"
      },
      "execution_count": null,
      "outputs": []
    }
  ],
  "metadata": {
    "accelerator": "GPU",
    "colab": {
      "collapsed_sections": [],
      "machine_shape": "hm",
      "name": "Detecting Duplicate Quora Questions - Kaggle Competetion",
      "provenance": [],
      "authorship_tag": "ABX9TyOCz3vcbHBP9yZ1GFfqC7eu",
      "include_colab_link": true
    },
    "kernelspec": {
      "display_name": "Python 3",
      "name": "python3"
    },
    "language_info": {
      "name": "python"
    },
    "widgets": {
      "application/vnd.jupyter.widget-state+json": {
        "31e7599ba1064c73a9ceb46d8250bc96": {
          "model_module": "@jupyter-widgets/controls",
          "model_name": "HBoxModel",
          "model_module_version": "1.5.0",
          "state": {
            "_dom_classes": [],
            "_model_module": "@jupyter-widgets/controls",
            "_model_module_version": "1.5.0",
            "_model_name": "HBoxModel",
            "_view_count": null,
            "_view_module": "@jupyter-widgets/controls",
            "_view_module_version": "1.5.0",
            "_view_name": "HBoxView",
            "box_style": "",
            "children": [
              "IPY_MODEL_119cb20722a44594aa7b42ad2b85e9b0",
              "IPY_MODEL_84d8cbaab7644a82a377affb5188cdc3",
              "IPY_MODEL_5f2b4207f53d4019a8b685769458e4b3"
            ],
            "layout": "IPY_MODEL_9dc0b380da724b17954c9f435043c6c3"
          }
        },
        "119cb20722a44594aa7b42ad2b85e9b0": {
          "model_module": "@jupyter-widgets/controls",
          "model_name": "HTMLModel",
          "model_module_version": "1.5.0",
          "state": {
            "_dom_classes": [],
            "_model_module": "@jupyter-widgets/controls",
            "_model_module_version": "1.5.0",
            "_model_name": "HTMLModel",
            "_view_count": null,
            "_view_module": "@jupyter-widgets/controls",
            "_view_module_version": "1.5.0",
            "_view_name": "HTMLView",
            "description": "",
            "description_tooltip": null,
            "layout": "IPY_MODEL_1cf6b0b00a80412a8cfb5be7e86c7974",
            "placeholder": "​",
            "style": "IPY_MODEL_c118785e1ad349c2951aad66ba82f7ce",
            "value": ""
          }
        },
        "84d8cbaab7644a82a377affb5188cdc3": {
          "model_module": "@jupyter-widgets/controls",
          "model_name": "FloatProgressModel",
          "model_module_version": "1.5.0",
          "state": {
            "_dom_classes": [],
            "_model_module": "@jupyter-widgets/controls",
            "_model_module_version": "1.5.0",
            "_model_name": "FloatProgressModel",
            "_view_count": null,
            "_view_module": "@jupyter-widgets/controls",
            "_view_module_version": "1.5.0",
            "_view_name": "ProgressView",
            "bar_style": "success",
            "description": "",
            "description_tooltip": null,
            "layout": "IPY_MODEL_59c777b989a34ce7845e4ba6ad0c4902",
            "max": 1,
            "min": 0,
            "orientation": "horizontal",
            "style": "IPY_MODEL_233ee09eb2cf4e82aa58c48efb739b74",
            "value": 1
          }
        },
        "5f2b4207f53d4019a8b685769458e4b3": {
          "model_module": "@jupyter-widgets/controls",
          "model_name": "HTMLModel",
          "model_module_version": "1.5.0",
          "state": {
            "_dom_classes": [],
            "_model_module": "@jupyter-widgets/controls",
            "_model_module_version": "1.5.0",
            "_model_name": "HTMLModel",
            "_view_count": null,
            "_view_module": "@jupyter-widgets/controls",
            "_view_module_version": "1.5.0",
            "_view_name": "HTMLView",
            "description": "",
            "description_tooltip": null,
            "layout": "IPY_MODEL_e0283a6547b24481896054fda8a20b3a",
            "placeholder": "​",
            "style": "IPY_MODEL_357ba665eb534acb83c5a525b5314080",
            "value": " 2196017/? [01:42&lt;00:00, 21877.44it/s]"
          }
        },
        "9dc0b380da724b17954c9f435043c6c3": {
          "model_module": "@jupyter-widgets/base",
          "model_name": "LayoutModel",
          "model_module_version": "1.2.0",
          "state": {
            "_model_module": "@jupyter-widgets/base",
            "_model_module_version": "1.2.0",
            "_model_name": "LayoutModel",
            "_view_count": null,
            "_view_module": "@jupyter-widgets/base",
            "_view_module_version": "1.2.0",
            "_view_name": "LayoutView",
            "align_content": null,
            "align_items": null,
            "align_self": null,
            "border": null,
            "bottom": null,
            "display": null,
            "flex": null,
            "flex_flow": null,
            "grid_area": null,
            "grid_auto_columns": null,
            "grid_auto_flow": null,
            "grid_auto_rows": null,
            "grid_column": null,
            "grid_gap": null,
            "grid_row": null,
            "grid_template_areas": null,
            "grid_template_columns": null,
            "grid_template_rows": null,
            "height": null,
            "justify_content": null,
            "justify_items": null,
            "left": null,
            "margin": null,
            "max_height": null,
            "max_width": null,
            "min_height": null,
            "min_width": null,
            "object_fit": null,
            "object_position": null,
            "order": null,
            "overflow": null,
            "overflow_x": null,
            "overflow_y": null,
            "padding": null,
            "right": null,
            "top": null,
            "visibility": null,
            "width": null
          }
        },
        "1cf6b0b00a80412a8cfb5be7e86c7974": {
          "model_module": "@jupyter-widgets/base",
          "model_name": "LayoutModel",
          "model_module_version": "1.2.0",
          "state": {
            "_model_module": "@jupyter-widgets/base",
            "_model_module_version": "1.2.0",
            "_model_name": "LayoutModel",
            "_view_count": null,
            "_view_module": "@jupyter-widgets/base",
            "_view_module_version": "1.2.0",
            "_view_name": "LayoutView",
            "align_content": null,
            "align_items": null,
            "align_self": null,
            "border": null,
            "bottom": null,
            "display": null,
            "flex": null,
            "flex_flow": null,
            "grid_area": null,
            "grid_auto_columns": null,
            "grid_auto_flow": null,
            "grid_auto_rows": null,
            "grid_column": null,
            "grid_gap": null,
            "grid_row": null,
            "grid_template_areas": null,
            "grid_template_columns": null,
            "grid_template_rows": null,
            "height": null,
            "justify_content": null,
            "justify_items": null,
            "left": null,
            "margin": null,
            "max_height": null,
            "max_width": null,
            "min_height": null,
            "min_width": null,
            "object_fit": null,
            "object_position": null,
            "order": null,
            "overflow": null,
            "overflow_x": null,
            "overflow_y": null,
            "padding": null,
            "right": null,
            "top": null,
            "visibility": null,
            "width": null
          }
        },
        "c118785e1ad349c2951aad66ba82f7ce": {
          "model_module": "@jupyter-widgets/controls",
          "model_name": "DescriptionStyleModel",
          "model_module_version": "1.5.0",
          "state": {
            "_model_module": "@jupyter-widgets/controls",
            "_model_module_version": "1.5.0",
            "_model_name": "DescriptionStyleModel",
            "_view_count": null,
            "_view_module": "@jupyter-widgets/base",
            "_view_module_version": "1.2.0",
            "_view_name": "StyleView",
            "description_width": ""
          }
        },
        "59c777b989a34ce7845e4ba6ad0c4902": {
          "model_module": "@jupyter-widgets/base",
          "model_name": "LayoutModel",
          "model_module_version": "1.2.0",
          "state": {
            "_model_module": "@jupyter-widgets/base",
            "_model_module_version": "1.2.0",
            "_model_name": "LayoutModel",
            "_view_count": null,
            "_view_module": "@jupyter-widgets/base",
            "_view_module_version": "1.2.0",
            "_view_name": "LayoutView",
            "align_content": null,
            "align_items": null,
            "align_self": null,
            "border": null,
            "bottom": null,
            "display": null,
            "flex": null,
            "flex_flow": null,
            "grid_area": null,
            "grid_auto_columns": null,
            "grid_auto_flow": null,
            "grid_auto_rows": null,
            "grid_column": null,
            "grid_gap": null,
            "grid_row": null,
            "grid_template_areas": null,
            "grid_template_columns": null,
            "grid_template_rows": null,
            "height": null,
            "justify_content": null,
            "justify_items": null,
            "left": null,
            "margin": null,
            "max_height": null,
            "max_width": null,
            "min_height": null,
            "min_width": null,
            "object_fit": null,
            "object_position": null,
            "order": null,
            "overflow": null,
            "overflow_x": null,
            "overflow_y": null,
            "padding": null,
            "right": null,
            "top": null,
            "visibility": null,
            "width": "20px"
          }
        },
        "233ee09eb2cf4e82aa58c48efb739b74": {
          "model_module": "@jupyter-widgets/controls",
          "model_name": "ProgressStyleModel",
          "model_module_version": "1.5.0",
          "state": {
            "_model_module": "@jupyter-widgets/controls",
            "_model_module_version": "1.5.0",
            "_model_name": "ProgressStyleModel",
            "_view_count": null,
            "_view_module": "@jupyter-widgets/base",
            "_view_module_version": "1.2.0",
            "_view_name": "StyleView",
            "bar_color": null,
            "description_width": ""
          }
        },
        "e0283a6547b24481896054fda8a20b3a": {
          "model_module": "@jupyter-widgets/base",
          "model_name": "LayoutModel",
          "model_module_version": "1.2.0",
          "state": {
            "_model_module": "@jupyter-widgets/base",
            "_model_module_version": "1.2.0",
            "_model_name": "LayoutModel",
            "_view_count": null,
            "_view_module": "@jupyter-widgets/base",
            "_view_module_version": "1.2.0",
            "_view_name": "LayoutView",
            "align_content": null,
            "align_items": null,
            "align_self": null,
            "border": null,
            "bottom": null,
            "display": null,
            "flex": null,
            "flex_flow": null,
            "grid_area": null,
            "grid_auto_columns": null,
            "grid_auto_flow": null,
            "grid_auto_rows": null,
            "grid_column": null,
            "grid_gap": null,
            "grid_row": null,
            "grid_template_areas": null,
            "grid_template_columns": null,
            "grid_template_rows": null,
            "height": null,
            "justify_content": null,
            "justify_items": null,
            "left": null,
            "margin": null,
            "max_height": null,
            "max_width": null,
            "min_height": null,
            "min_width": null,
            "object_fit": null,
            "object_position": null,
            "order": null,
            "overflow": null,
            "overflow_x": null,
            "overflow_y": null,
            "padding": null,
            "right": null,
            "top": null,
            "visibility": null,
            "width": null
          }
        },
        "357ba665eb534acb83c5a525b5314080": {
          "model_module": "@jupyter-widgets/controls",
          "model_name": "DescriptionStyleModel",
          "model_module_version": "1.5.0",
          "state": {
            "_model_module": "@jupyter-widgets/controls",
            "_model_module_version": "1.5.0",
            "_model_name": "DescriptionStyleModel",
            "_view_count": null,
            "_view_module": "@jupyter-widgets/base",
            "_view_module_version": "1.2.0",
            "_view_name": "StyleView",
            "description_width": ""
          }
        }
      }
    }
  },
  "nbformat": 4,
  "nbformat_minor": 0
}